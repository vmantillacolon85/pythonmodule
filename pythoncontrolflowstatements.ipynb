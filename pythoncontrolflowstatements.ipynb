{
 "cells": [
  {
   "cell_type": "markdown",
   "id": "6136004f-60be-4e57-94c2-ec2e38e327ac",
   "metadata": {},
   "source": [
    "# While Loops"
   ]
  },
  {
   "cell_type": "code",
   "execution_count": 5,
   "id": "58c4c897-c17e-42b0-a740-4f466dfc4572",
   "metadata": {},
   "outputs": [
    {
     "name": "stdout",
     "output_type": "stream",
     "text": [
      "1\n",
      "2\n",
      "3\n",
      "4\n",
      "5\n",
      "6\n",
      "7\n",
      "8\n",
      "9\n"
     ]
    }
   ],
   "source": [
    "x = 1\n",
    "while x < 10:\n",
    "    print(x)\n",
    "    x=x+1\n"
   ]
  },
  {
   "cell_type": "markdown",
   "id": "e71e1278-2200-47f3-b222-7a011c08b677",
   "metadata": {},
   "source": [
    "# For Loops"
   ]
  },
  {
   "cell_type": "code",
   "execution_count": 2,
   "id": "3c176f42-ff8a-4109-841f-272689b1b018",
   "metadata": {},
   "outputs": [
    {
     "name": "stdout",
     "output_type": "stream",
     "text": [
      "False\n",
      "True\n",
      "True\n",
      "True\n",
      "False\n",
      "True\n",
      "False\n",
      "True\n"
     ]
    }
   ],
   "source": [
    "n =  [9,4,2,6,7,10,3,8]\n",
    "\n",
    "for val in n:\n",
    "    print(val%2==0)\n"
   ]
  },
  {
   "cell_type": "code",
   "execution_count": 15,
   "id": "ccaf6785-d76b-4c0d-b559-dd3df0532126",
   "metadata": {},
   "outputs": [
    {
     "name": "stdout",
     "output_type": "stream",
     "text": [
      "[4, 2, 6, 10, 8]\n"
     ]
    }
   ],
   "source": [
    "n =  [9,4,2,6,7,10,3,8]\n",
    "list = []\n",
    "for val in n:\n",
    "    if(val%2==0): # if val divided by 2 has a remainder of 0 then append it to the list\n",
    "        list.append(val)\n",
    "print(list)"
   ]
  },
  {
   "cell_type": "markdown",
   "id": "d64bb24f-7220-47fd-acd0-e984e128a072",
   "metadata": {},
   "source": [
    "# Break"
   ]
  },
  {
   "cell_type": "code",
   "execution_count": 20,
   "id": "ca736e49-6a65-406a-bdeb-8dc402570929",
   "metadata": {},
   "outputs": [
    {
     "name": "stdout",
     "output_type": "stream",
     "text": [
      "False\n",
      "True\n",
      "True\n"
     ]
    }
   ],
   "source": [
    "n =  [9,4,2,6,7,10,3,8]\n",
    "\n",
    "for val in n:\n",
    "    if val == 6:\n",
    "        break\n",
    "    print(val%2==0)\n"
   ]
  },
  {
   "cell_type": "markdown",
   "id": "4ea3824b-e13e-40e3-a29b-b8c1c372403e",
   "metadata": {},
   "source": [
    "# Continue "
   ]
  },
  {
   "cell_type": "code",
   "execution_count": 28,
   "id": "d449cc10-0e6b-4b08-b11e-111ee8b747ea",
   "metadata": {},
   "outputs": [
    {
     "name": "stdout",
     "output_type": "stream",
     "text": [
      "False\n",
      "True\n",
      "True\n",
      "False\n",
      "True\n",
      "False\n",
      "True\n"
     ]
    }
   ],
   "source": [
    "n =  [9,4,2,6,7,10,3,8]\n",
    "\n",
    "for val in n:\n",
    "    if val == 6:\n",
    "       continue\n",
    "    print(val%2==0)\n"
   ]
  },
  {
   "cell_type": "code",
   "execution_count": null,
   "id": "8639adc5-1ab5-4c8d-8286-2d0553c02b70",
   "metadata": {},
   "outputs": [],
   "source": []
  }
 ],
 "metadata": {
  "kernelspec": {
   "display_name": "Python 3 (ipykernel)",
   "language": "python",
   "name": "python3"
  },
  "language_info": {
   "codemirror_mode": {
    "name": "ipython",
    "version": 3
   },
   "file_extension": ".py",
   "mimetype": "text/x-python",
   "name": "python",
   "nbconvert_exporter": "python",
   "pygments_lexer": "ipython3",
   "version": "3.9.13"
  }
 },
 "nbformat": 4,
 "nbformat_minor": 5
}
