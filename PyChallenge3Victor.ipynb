{
 "cells": [
  {
   "cell_type": "markdown",
   "id": "a432908b-6d54-4579-9e0b-e135ccb548be",
   "metadata": {},
   "source": [
    "Victor Mantilla Colon"
   ]
  },
  {
   "cell_type": "markdown",
   "id": "d45fb939-624a-4b62-9d68-b7f4d4afb4fa",
   "metadata": {},
   "source": [
    "1. Create Calculations:"
   ]
  },
  {
   "cell_type": "markdown",
   "id": "467463c7-1a7b-4901-a642-05abcf666db2",
   "metadata": {},
   "source": [
    "a. Add two integers together."
   ]
  },
  {
   "cell_type": "code",
   "execution_count": 1,
   "id": "464ceadc-7a25-4f3c-8f02-b71f493b8de3",
   "metadata": {},
   "outputs": [
    {
     "data": {
      "text/plain": [
       "10"
      ]
     },
     "execution_count": 1,
     "metadata": {},
     "output_type": "execute_result"
    }
   ],
   "source": [
    "4 + 6"
   ]
  },
  {
   "cell_type": "markdown",
   "id": "c0dc39e7-a3f6-42fd-9a60-cab47800af36",
   "metadata": {},
   "source": [
    "b. Substract two integers. "
   ]
  },
  {
   "cell_type": "code",
   "execution_count": 2,
   "id": "dde3c2be-77ec-42aa-bab1-a7903c52d985",
   "metadata": {},
   "outputs": [
    {
     "data": {
      "text/plain": [
       "6"
      ]
     },
     "execution_count": 2,
     "metadata": {},
     "output_type": "execute_result"
    }
   ],
   "source": [
    "8 - 2"
   ]
  },
  {
   "cell_type": "markdown",
   "id": "87956d30-ea6e-40d5-bba5-1bccf118126d",
   "metadata": {},
   "source": [
    "c. Divide two values. Have the result be an integer by using floor division. "
   ]
  },
  {
   "cell_type": "code",
   "execution_count": 7,
   "id": "5b3241ef-bf6c-4877-b654-15f0bce62310",
   "metadata": {},
   "outputs": [
    {
     "data": {
      "text/plain": [
       "1.3333333333333333"
      ]
     },
     "execution_count": 7,
     "metadata": {},
     "output_type": "execute_result"
    }
   ],
   "source": [
    "4/3"
   ]
  },
  {
   "cell_type": "code",
   "execution_count": 8,
   "id": "7b341aab-1eba-4867-bc8b-bc9a38c2f256",
   "metadata": {},
   "outputs": [
    {
     "data": {
      "text/plain": [
       "1"
      ]
     },
     "execution_count": 8,
     "metadata": {},
     "output_type": "execute_result"
    }
   ],
   "source": [
    "4//3"
   ]
  },
  {
   "cell_type": "markdown",
   "id": "263ef4da-02bd-4496-9620-3dedd6b634e9",
   "metadata": {},
   "source": [
    "d. Create a variable 'x'. Have it's value be 10+5. Print 'x'."
   ]
  },
  {
   "cell_type": "code",
   "execution_count": 9,
   "id": "6c012b2b-ee0d-49e1-8a0c-5373a634e0c3",
   "metadata": {},
   "outputs": [
    {
     "name": "stdout",
     "output_type": "stream",
     "text": [
      "15\n"
     ]
    }
   ],
   "source": [
    "x = 10 + 5\n",
    "print(x)"
   ]
  },
  {
   "cell_type": "markdown",
   "id": "49fe06e0-f5e9-464e-a60a-4ec99e7741ed",
   "metadata": {},
   "source": [
    "2.  Create two strings and combine them using the + operator."
   ]
  },
  {
   "cell_type": "code",
   "execution_count": 16,
   "id": "39faa851-72f2-48fc-8071-236df77ccf44",
   "metadata": {},
   "outputs": [
    {
     "name": "stdout",
     "output_type": "stream",
     "text": [
      "I love and I hate you!\n"
     ]
    }
   ],
   "source": [
    "string1 = 'I love and'\n",
    "string2 = 'I hate you!'\n",
    "print(string1 + \" \" + string2)\n"
   ]
  },
  {
   "cell_type": "markdown",
   "id": "4f837cb8-2df8-4e88-8d74-1da05c14aeee",
   "metadata": {},
   "source": [
    "3. Create variable 'y'. Have the value be 'program'.  Omit letters o and g. Print the result."
   ]
  },
  {
   "cell_type": "code",
   "execution_count": 18,
   "id": "6939b75c-3917-48c6-85f0-677fe778a98b",
   "metadata": {},
   "outputs": [
    {
     "name": "stdout",
     "output_type": "stream",
     "text": [
      "program\n"
     ]
    }
   ],
   "source": [
    "y = 'program'\n",
    "print(y)"
   ]
  },
  {
   "cell_type": "code",
   "execution_count": 19,
   "id": "7a840d99-461f-4c6b-84e0-dda3a82787b3",
   "metadata": {},
   "outputs": [
    {
     "data": {
      "text/plain": [
       "'prram'"
      ]
     },
     "execution_count": 19,
     "metadata": {},
     "output_type": "execute_result"
    }
   ],
   "source": [
    "y[0:2] + y[4:]"
   ]
  },
  {
   "cell_type": "markdown",
   "id": "20927b64-0919-472c-9023-88be2524113c",
   "metadata": {},
   "source": [
    "4. Create a list called 'calendar_months'."
   ]
  },
  {
   "cell_type": "markdown",
   "id": "9130a7e9-e2b1-4a6e-bd48-97952d9a2978",
   "metadata": {},
   "source": [
    "a. How long is the list? "
   ]
  },
  {
   "cell_type": "code",
   "execution_count": 20,
   "id": "3234dd71-2929-4bd0-b7a8-4f5a16469143",
   "metadata": {},
   "outputs": [
    {
     "data": {
      "text/plain": [
       "12"
      ]
     },
     "execution_count": 20,
     "metadata": {},
     "output_type": "execute_result"
    }
   ],
   "source": [
    "calendar_months = [\"January\", \"February\", \"March\", \"April\", \"May\", \"June\", \"July\", \"August\", \"September\", \"October\", \"November\", \"December\"]\n",
    "len(calendar_months)"
   ]
  },
  {
   "cell_type": "markdown",
   "id": "4fa64f91-ffb3-4d55-8e5a-dbc2d0cf4e3f",
   "metadata": {},
   "source": [
    "b. Print only February, March, and April. "
   ]
  },
  {
   "cell_type": "code",
   "execution_count": 23,
   "id": "d70fc445-6157-4028-8b97-6fd739ec29d5",
   "metadata": {},
   "outputs": [
    {
     "data": {
      "text/plain": [
       "['February', 'March', 'April']"
      ]
     },
     "execution_count": 23,
     "metadata": {},
     "output_type": "execute_result"
    }
   ],
   "source": [
    "calendar_months[1:4]"
   ]
  },
  {
   "cell_type": "markdown",
   "id": "6d62a470-da42-4042-b53e-801960b32396",
   "metadata": {},
   "source": [
    "5. Create a sample list of your choice, using string variables."
   ]
  },
  {
   "cell_type": "code",
   "execution_count": 25,
   "id": "fd43b77a-f489-4d80-88ef-54490d7d2d84",
   "metadata": {},
   "outputs": [
    {
     "name": "stdout",
     "output_type": "stream",
     "text": [
      "['Picasso', 'Dali', 'Miro', 'Magritte']\n"
     ]
    }
   ],
   "source": [
    "artists = ['Picasso', 'Dali', 'Miro', 'Magritte']\n",
    "print(artists)"
   ]
  },
  {
   "cell_type": "markdown",
   "id": "a7299a2f-828f-4076-a9fb-3ce618ec8629",
   "metadata": {},
   "source": [
    "6. Create a second sample list of your choice, using string variables."
   ]
  },
  {
   "cell_type": "code",
   "execution_count": 26,
   "id": "503b60ac-5e73-40fd-9954-66dcacbc42ba",
   "metadata": {},
   "outputs": [
    {
     "name": "stdout",
     "output_type": "stream",
     "text": [
      "['Leo Stein', 'Christian Dior', 'Josep Dalmau', 'Max Janlet']\n"
     ]
    }
   ],
   "source": [
    "collectors = ['Leo Stein', 'Christian Dior', 'Josep Dalmau', 'Max Janlet']\n",
    "print(collectors)"
   ]
  },
  {
   "cell_type": "markdown",
   "id": "843e687b-8cbf-47cf-88f7-5e2ce4a1a13e",
   "metadata": {},
   "source": [
    "7.  Create a third list that concats the two sample lists you created above."
   ]
  },
  {
   "cell_type": "code",
   "execution_count": 52,
   "id": "a507a723-33a3-4281-ab42-a20681adb589",
   "metadata": {},
   "outputs": [
    {
     "name": "stdout",
     "output_type": "stream",
     "text": [
      "['Picasso', 'Dali', 'Miro', 'Magritte', 'Leo Stein', 'Christian Dior', 'Josep Dalmau', 'Max Janlet']\n"
     ]
    }
   ],
   "source": [
    "provenance = artists + collectors\n",
    "print(provenance)"
   ]
  },
  {
   "cell_type": "markdown",
   "id": "aca72837-1b3c-4aac-a18b-295d16db443f",
   "metadata": {},
   "source": [
    "a. Remove one item from the third list"
   ]
  },
  {
   "cell_type": "code",
   "execution_count": 53,
   "id": "0448fea4-2b2d-4546-ad71-bd69cd0266a4",
   "metadata": {},
   "outputs": [
    {
     "name": "stdout",
     "output_type": "stream",
     "text": [
      "['Picasso', 'Dali', 'Miro', 'Leo Stein', 'Christian Dior', 'Josep Dalmau', 'Max Janlet']\n"
     ]
    }
   ],
   "source": [
    "provenance.pop(3)\n",
    "print(provenance)"
   ]
  },
  {
   "cell_type": "markdown",
   "id": "983356b4-a9e5-4c57-a557-f0dc305c29b1",
   "metadata": {},
   "source": [
    "8. Create a dictionary that has four keys and assign those keys values."
   ]
  },
  {
   "cell_type": "code",
   "execution_count": 39,
   "id": "47e8dc39-9c74-4827-8a39-45dd6c046b0d",
   "metadata": {},
   "outputs": [],
   "source": [
    "goats = {\"Tennis\": \"Serena Williams\",\n",
    "         \"Swimming\": \"Michael Phelps\",\n",
    "         \"Gymastics\": \"Simone Biles\",\n",
    "         \"Track & Field\": \"Usain Bolt\"}"
   ]
  },
  {
   "cell_type": "code",
   "execution_count": 40,
   "id": "57836532-453d-406f-a5d0-64f273a64f3c",
   "metadata": {},
   "outputs": [
    {
     "name": "stdout",
     "output_type": "stream",
     "text": [
      "Serena Williams\n"
     ]
    }
   ],
   "source": [
    "print(goats[\"Tennis\"])"
   ]
  },
  {
   "cell_type": "markdown",
   "id": "08834c4f-3904-4c46-8ba9-2aef07e19bea",
   "metadata": {},
   "source": [
    "a. What is the length of the dictionary?"
   ]
  },
  {
   "cell_type": "code",
   "execution_count": 41,
   "id": "92924f3d-cef3-463f-8b24-1a126d96f879",
   "metadata": {},
   "outputs": [
    {
     "data": {
      "text/plain": [
       "4"
      ]
     },
     "execution_count": 41,
     "metadata": {},
     "output_type": "execute_result"
    }
   ],
   "source": [
    "len(goats)"
   ]
  },
  {
   "cell_type": "code",
   "execution_count": null,
   "id": "e814bd39-6b21-4150-9995-23948320379f",
   "metadata": {},
   "outputs": [],
   "source": []
  }
 ],
 "metadata": {
  "kernelspec": {
   "display_name": "Python 3 (ipykernel)",
   "language": "python",
   "name": "python3"
  },
  "language_info": {
   "codemirror_mode": {
    "name": "ipython",
    "version": 3
   },
   "file_extension": ".py",
   "mimetype": "text/x-python",
   "name": "python",
   "nbconvert_exporter": "python",
   "pygments_lexer": "ipython3",
   "version": "3.9.13"
  }
 },
 "nbformat": 4,
 "nbformat_minor": 5
}
