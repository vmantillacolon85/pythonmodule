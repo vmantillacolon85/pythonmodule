{
 "cells": [
  {
   "cell_type": "markdown",
   "id": "b3e2a005-2ccf-4553-910a-d58a300a1541",
   "metadata": {},
   "source": [
    "# Loops Repeat"
   ]
  },
  {
   "cell_type": "markdown",
   "id": "e4f6804d-7d01-45b7-bcd1-589b98f94af2",
   "metadata": {},
   "source": [
    "**range()**\n",
    "`range(start, stop, step=1)`  \n",
    "Rather than being a function, `range()` is actually an immutable sequence type.  \n",
    "The range type represents an immutable sequence of numbers and is commonly used for looping a specific number of times in for loops.\n",
    "Though a range can be turned into a list it is not natively a list.   \n",
    "[For more information on ranges in python click here](https://docs.python.org/3/library/stdtypes.html#typesseq-range)"
   ]
  },
  {
   "cell_type": "code",
   "execution_count": 1,
   "id": "52d9c877-bd17-494d-aa23-96960f472ef2",
   "metadata": {},
   "outputs": [
    {
     "data": {
      "text/plain": [
       "(range(0, 3), range)"
      ]
     },
     "execution_count": 1,
     "metadata": {},
     "output_type": "execute_result"
    }
   ],
   "source": [
    "range(3), type(range(3)) "
   ]
  },
  {
   "cell_type": "markdown",
   "id": "ceeac14b-70a0-479b-9586-bc44979a5a13",
   "metadata": {},
   "source": [
    "**Range** is a complex type and it's iterable.  \n",
    "Strings, lists, tuples, dictionaries, and sets are all iterable objects.   \n",
    "They are iterable containers which you can get an iterator from.  \n",
    "All these objects have a `iter()` method which is used to get an iterator:  "
   ]
  },
  {
   "cell_type": "code",
   "execution_count": 2,
   "id": "6cb7b8e3-e92a-409b-8efc-0f7174ad2672",
   "metadata": {},
   "outputs": [
    {
     "name": "stdout",
     "output_type": "stream",
     "text": [
      "range(0, 3)\n"
     ]
    }
   ],
   "source": [
    "print(range(3))"
   ]
  },
  {
   "cell_type": "code",
   "execution_count": 3,
   "id": "c230bc2a-e9b3-4433-8fb3-c33b8683ad18",
   "metadata": {},
   "outputs": [
    {
     "name": "stdout",
     "output_type": "stream",
     "text": [
      "[0, 1, 2]\n"
     ]
    }
   ],
   "source": [
    "print(list(range(3)))"
   ]
  },
  {
   "cell_type": "code",
   "execution_count": 4,
   "id": "7c7dc640-76b7-4249-87a7-9fe919f437bb",
   "metadata": {},
   "outputs": [
    {
     "name": "stdout",
     "output_type": "stream",
     "text": [
      "0\n",
      "1\n",
      "2\n"
     ]
    }
   ],
   "source": [
    "for item in range(3):\n",
    "    print(item)"
   ]
  },
  {
   "cell_type": "markdown",
   "id": "2543a514-dc4c-4b5e-8f05-cda07defd5f3",
   "metadata": {},
   "source": [
    "**For Loop**  \n",
    "A `for loop` is used for iterating over a sequence (that is either a list, a tuple, a dictionary, a set, or a string).  \n",
    "With the `for loop` we can execute a set of statements, once for each item in a list, tuple, set etc.  "
   ]
  },
  {
   "cell_type": "code",
   "execution_count": 5,
   "id": "1e2622a0-016d-4133-b10c-77de87fbf269",
   "metadata": {},
   "outputs": [
    {
     "name": "stdout",
     "output_type": "stream",
     "text": [
      "Loop\n",
      "Loop\n",
      "Loop\n"
     ]
    }
   ],
   "source": [
    "for item in range(3):\n",
    "    print('Loop')"
   ]
  },
  {
   "cell_type": "code",
   "execution_count": 6,
   "id": "b940bded-d303-4e87-95a8-b78ea156b898",
   "metadata": {},
   "outputs": [
    {
     "name": "stdout",
     "output_type": "stream",
     "text": [
      "['Loop', 'Loop', 'Loop']\n"
     ]
    }
   ],
   "source": [
    "lst = []\n",
    "\n",
    "for item in range(3):\n",
    "    lst.append('Loop')\n",
    "\n",
    "print(lst)"
   ]
  },
  {
   "cell_type": "markdown",
   "id": "c7f16bdc-7f2d-4032-ad2e-599569a20e83",
   "metadata": {},
   "source": [
    "Let's make the loop count the loops"
   ]
  },
  {
   "cell_type": "code",
   "execution_count": 7,
   "id": "cb3cacce-2330-488f-b78d-2bb320a42997",
   "metadata": {},
   "outputs": [
    {
     "name": "stdout",
     "output_type": "stream",
     "text": [
      "Loop 1\n",
      "Loop 2\n",
      "Loop 3\n"
     ]
    }
   ],
   "source": [
    "for item in range(3):\n",
    "    print('Loop', item + 1)"
   ]
  },
  {
   "cell_type": "markdown",
   "id": "9b719121-449d-49ae-8b3d-013389dc364e",
   "metadata": {},
   "source": [
    "Let's count with smiles"
   ]
  },
  {
   "cell_type": "code",
   "execution_count": 8,
   "id": "96e44cfa-8d0d-4934-abf5-dfeb5c1b9dd2",
   "metadata": {},
   "outputs": [
    {
     "name": "stdout",
     "output_type": "stream",
     "text": [
      "Loop 1 :)\n",
      "Loop 2 :):)\n",
      "Loop 3 :):):)\n"
     ]
    }
   ],
   "source": [
    "for item in range(3):\n",
    "    print('Loop', item + 1, (item + 1) * ':)')"
   ]
  },
  {
   "cell_type": "markdown",
   "id": "badf31e9-ea0c-40bc-a3bc-636512aa7137",
   "metadata": {},
   "source": [
    "If we want to start the loop at 1 without having to add in the loop what can we do?"
   ]
  },
  {
   "cell_type": "code",
   "execution_count": 9,
   "id": "f827f7fd-c36a-4c18-ae21-465aae423171",
   "metadata": {},
   "outputs": [
    {
     "name": "stdout",
     "output_type": "stream",
     "text": [
      "Loop 1 :)\n",
      "Loop 2 :):)\n",
      "Loop 3 :):):)\n"
     ]
    }
   ],
   "source": [
    "for item in range(1,4):\n",
    "    print('Loop', item, item * ':)')"
   ]
  },
  {
   "cell_type": "markdown",
   "id": "02f0f6ec-f36a-4a5d-8662-a8ba7430823b",
   "metadata": {},
   "source": [
    "And the step for no reason."
   ]
  },
  {
   "cell_type": "code",
   "execution_count": 10,
   "id": "c3226702-92c2-4367-8101-6a5d49837c35",
   "metadata": {},
   "outputs": [
    {
     "name": "stdout",
     "output_type": "stream",
     "text": [
      "Loop 1 :)\n",
      "Loop 3 :):):)\n",
      "Loop 5 :):):):):)\n",
      "Loop 7 :):):):):):):)\n",
      "Loop 9 :):):):):):):):):)\n"
     ]
    }
   ],
   "source": [
    "for item in range(1,10,2):\n",
    "    print('Loop', item, item * ':)')"
   ]
  },
  {
   "cell_type": "markdown",
   "id": "b453c596-bfdf-4960-ad0a-ca42c8878d78",
   "metadata": {},
   "source": [
    "**Break**  \n",
    "`break` in Python is a loop control statement.   \n",
    "It is used to control the sequence of the loop.   \n",
    "Suppose you want to terminate a loop and skip to the next code after the loop; break will help you do that. A typical scenario of using the Break in Python is when an external condition triggers the loop's termination.  "
   ]
  },
  {
   "cell_type": "code",
   "execution_count": 11,
   "id": "4e2c8236-044d-41ca-a8a1-cbecec23da12",
   "metadata": {},
   "outputs": [
    {
     "name": "stdout",
     "output_type": "stream",
     "text": [
      "Please buy our product\n",
      "Please buy our product\n",
      "Please buy our product\n"
     ]
    }
   ],
   "source": [
    "picked_up_the_phone = True\n",
    "\n",
    "for call_attempt in range(3):\n",
    "    if picked_up_the_phone == True:\n",
    "        print('Please buy our product')"
   ]
  },
  {
   "cell_type": "code",
   "execution_count": 12,
   "id": "d7ac7722-8897-407e-8739-5b233def9039",
   "metadata": {},
   "outputs": [
    {
     "name": "stdout",
     "output_type": "stream",
     "text": [
      "Please buy our product\n"
     ]
    }
   ],
   "source": [
    "picked_up_the_phone = True\n",
    "\n",
    "for call_attempt in range(3):\n",
    "    if picked_up_the_phone == True:\n",
    "        print('Please buy our product')\n",
    "        break"
   ]
  },
  {
   "cell_type": "code",
   "execution_count": 17,
   "id": "61ec5292-0fa4-407f-a783-98aa7b70e95f",
   "metadata": {},
   "outputs": [
    {
     "name": "stdout",
     "output_type": "stream",
     "text": [
      "ring ring i will find you\n",
      "ring ring i will find you\n",
      "ring ring i will find you\n"
     ]
    }
   ],
   "source": [
    "picked_up_the_phone = False\n",
    "\n",
    "for call_attempt in range(3):\n",
    "    if picked_up_the_phone == True:\n",
    "        print('Please buy our product')\n",
    "        break\n",
    "    else:\n",
    "        print('ring ring i will find you')"
   ]
  },
  {
   "cell_type": "markdown",
   "id": "aa2f8c26-46d4-465c-86ad-6c309bdb39c6",
   "metadata": {},
   "source": [
    "**For Else**"
   ]
  },
  {
   "cell_type": "code",
   "execution_count": 15,
   "id": "3a6e7bb6-3a5f-40fc-894c-5f7de878bb98",
   "metadata": {},
   "outputs": [
    {
     "name": "stdout",
     "output_type": "stream",
     "text": [
      "No matter how long, no matter how far, I will find you\n"
     ]
    }
   ],
   "source": [
    "picked_up_the_phone = False\n",
    "\n",
    "for call_attempt in range(3):\n",
    "    if picked_up_the_phone:\n",
    "        print('Please buy our product')\n",
    "        break\n",
    "else:  ## because the else is outside of the for function above it will just print once not 3 times as the range would suggest.\n",
    "    print('No matter how long, no matter how far, I will find you')"
   ]
  },
  {
   "cell_type": "code",
   "execution_count": 22,
   "id": "4f586dcc-d8f1-4cb7-897f-50b4c24e5b5b",
   "metadata": {},
   "outputs": [
    {
     "name": "stdout",
     "output_type": "stream",
     "text": [
      "LIFT MORE!\n",
      "LIFT MORE!\n",
      "LIFT MORE!\n",
      "LIFT MORE!\n",
      "LIFT MORE!\n",
      "LIFT MORE!\n",
      "LIFT MORE!\n",
      "LIFT MORE!\n",
      "LIFT MORE!\n",
      "LIFT MORE!\n",
      "That's enough\n"
     ]
    }
   ],
   "source": [
    "number_of_reps = 0\n",
    "\n",
    "for reps in range(100):\n",
    "    if number_of_reps < 10:\n",
    "        print('LIFT MORE!')\n",
    "        number_of_reps += 1\n",
    "    else:\n",
    "        print('That\\'s enough')\n",
    "        #break ## without the break it will loop around 90 more times saying \"That's enough\" because the condition of Lift More! was fulfilled 10 times per the function's logic. "
   ]
  },
  {
   "cell_type": "markdown",
   "id": "0ad59736-cee7-4795-a59e-253c13d3518a",
   "metadata": {},
   "source": [
    "**Nested Loops**"
   ]
  },
  {
   "cell_type": "markdown",
   "id": "306c70dc-7631-41de-b71d-5c8192de51de",
   "metadata": {},
   "source": [
    "For every iteration of the outer loop all the iterations of the inner loop will complete"
   ]
  },
  {
   "cell_type": "code",
   "execution_count": 23,
   "id": "8fb9660d-84b7-4590-b476-c475ea068867",
   "metadata": {},
   "outputs": [
    {
     "name": "stdout",
     "output_type": "stream",
     "text": [
      "Outer Loop Iteration Number 1. Inner Loop Iteration Number 1\n",
      "Outer Loop Iteration Number 1. Inner Loop Iteration Number 2\n",
      "Outer Loop Iteration Number 1. Inner Loop Iteration Number 3\n",
      "Outer Loop Iteration Number 2. Inner Loop Iteration Number 1\n",
      "Outer Loop Iteration Number 2. Inner Loop Iteration Number 2\n",
      "Outer Loop Iteration Number 2. Inner Loop Iteration Number 3\n",
      "Outer Loop Iteration Number 3. Inner Loop Iteration Number 1\n",
      "Outer Loop Iteration Number 3. Inner Loop Iteration Number 2\n",
      "Outer Loop Iteration Number 3. Inner Loop Iteration Number 3\n",
      "Outer Loop Iteration Number 4. Inner Loop Iteration Number 1\n",
      "Outer Loop Iteration Number 4. Inner Loop Iteration Number 2\n",
      "Outer Loop Iteration Number 4. Inner Loop Iteration Number 3\n",
      "Outer Loop Iteration Number 5. Inner Loop Iteration Number 1\n",
      "Outer Loop Iteration Number 5. Inner Loop Iteration Number 2\n",
      "Outer Loop Iteration Number 5. Inner Loop Iteration Number 3\n"
     ]
    }
   ],
   "source": [
    "for x in range(1,6):\n",
    "    for y in range(1,4):\n",
    "        print(f'Outer Loop Iteration Number {x}. Inner Loop Iteration Number {y}')"
   ]
  },
  {
   "cell_type": "markdown",
   "id": "515f11aa-b46b-43fe-98e5-9791d752f460",
   "metadata": {},
   "source": [
    "Other iterable objects"
   ]
  },
  {
   "cell_type": "code",
   "execution_count": 26,
   "id": "de8df6ad-6fe6-4277-b802-12d5ba04a24d",
   "metadata": {},
   "outputs": [
    {
     "ename": "SyntaxError",
     "evalue": "EOL while scanning string literal (1547954312.py, line 3)",
     "output_type": "error",
     "traceback": [
      "\u001b[0;36m  File \u001b[0;32m\"/var/folders/4m/yt8hbrd947q4lr3s_f31chk00000gn/T/ipykernel_53195/1547954312.py\"\u001b[0;36m, line \u001b[0;32m3\u001b[0m\n\u001b[0;31m    print('I want a ' +  a  + ' ' +  b')\u001b[0m\n\u001b[0m                                        ^\u001b[0m\n\u001b[0;31mSyntaxError\u001b[0m\u001b[0;31m:\u001b[0m EOL while scanning string literal\n"
     ]
    }
   ],
   "source": [
    "a = 'ham'\n",
    "b = 'sandwich'\n",
    "print('I want a ' +  a  + ' ' +  b'.)"
   ]
  },
  {
   "cell_type": "code",
   "execution_count": null,
   "id": "afb699e6-d337-43b3-a717-18ab66d231c8",
   "metadata": {},
   "outputs": [],
   "source": [
    "#for item in 'Ham Sandwich':\n",
    "#    print(item)\n",
    "    \n",
    "#for item in [1,2,3,4,5]:\n",
    "#    print(item)"
   ]
  },
  {
   "cell_type": "markdown",
   "id": "3371c3ef-7f4a-4141-9d93-a7168f85545d",
   "metadata": {},
   "source": [
    "Write a loop that writes the even numbers between 1 and 10"
   ]
  },
  {
   "cell_type": "code",
   "execution_count": 27,
   "id": "92d769ca-3671-4a2e-b723-21480b1aa666",
   "metadata": {},
   "outputs": [
    {
     "name": "stdout",
     "output_type": "stream",
     "text": [
      "2\n",
      "4\n",
      "6\n",
      "8\n",
      "10\n"
     ]
    }
   ],
   "source": [
    "for i in range(2,11,2):\n",
    "    print(i)"
   ]
  },
  {
   "cell_type": "markdown",
   "id": "5e6f3214-9598-414a-9605-0ce524d91d09",
   "metadata": {},
   "source": [
    "Write a loop that writes the even numbers between 1 and 10 without using the step in range()"
   ]
  },
  {
   "cell_type": "code",
   "execution_count": 28,
   "id": "0eb52a68-f195-4a32-8c0a-31b307d6f9fe",
   "metadata": {},
   "outputs": [
    {
     "name": "stdout",
     "output_type": "stream",
     "text": [
      "2\n",
      "4\n",
      "6\n",
      "8\n",
      "10\n"
     ]
    }
   ],
   "source": [
    "for i in range(1,11):\n",
    "    if i%2 == 0:\n",
    "        print(i)"
   ]
  },
  {
   "cell_type": "markdown",
   "id": "a6a1404f-f400-4cb8-a455-cbfcd86e64a0",
   "metadata": {},
   "source": [
    "Write a loop that writes the even numbers between 1 and 10 without using the step in range() and count the numbe of results"
   ]
  },
  {
   "cell_type": "code",
   "execution_count": 32,
   "id": "a76b0367-005c-4e5c-9b84-c47f11977b60",
   "metadata": {},
   "outputs": [
    {
     "name": "stdout",
     "output_type": "stream",
     "text": [
      "2\n",
      "4\n",
      "6\n",
      "8\n",
      "10\n",
      "Number of results: 5\n"
     ]
    }
   ],
   "source": [
    "count = 0\n",
    "\n",
    "for i in range(1,11):\n",
    "    if i%2 == 0:\n",
    "        count += 1\n",
    "        print(i)\n",
    "print(f'Number of results: {count}')"
   ]
  },
  {
   "cell_type": "markdown",
   "id": "15e7e15b-0bc8-4a07-a523-d85e85db3544",
   "metadata": {},
   "source": [
    "**While Loop**"
   ]
  },
  {
   "cell_type": "markdown",
   "id": "2296e9d9-1b96-48e4-8663-baee3cf9491f",
   "metadata": {},
   "source": [
    "With the while loop we can execute a set of statements as long as a condition is true."
   ]
  },
  {
   "cell_type": "code",
   "execution_count": 33,
   "id": "217987e4-de3d-4dfd-a4d8-eb036d554d5c",
   "metadata": {},
   "outputs": [
    {
     "name": "stdout",
     "output_type": "stream",
     "text": [
      "1\n",
      "2\n",
      "3\n",
      "4\n",
      "5\n"
     ]
    }
   ],
   "source": [
    "i = 1\n",
    "while i < 6:\n",
    "  print(i)\n",
    "  i += 1"
   ]
  },
  {
   "cell_type": "markdown",
   "id": "1bd151e4-6d45-4b10-a4a9-db40d2b07335",
   "metadata": {},
   "source": [
    "`break` can be used with while loops same as for loops"
   ]
  },
  {
   "cell_type": "code",
   "execution_count": 34,
   "id": "376e4920-8765-4504-ba6e-10813fe8aa6b",
   "metadata": {},
   "outputs": [
    {
     "name": "stdout",
     "output_type": "stream",
     "text": [
      "1\n",
      "2\n",
      "3\n"
     ]
    }
   ],
   "source": [
    "i = 1\n",
    "while i < 6:\n",
    "  print(i)\n",
    "  if i == 3:\n",
    "    break\n",
    "  i += 1"
   ]
  },
  {
   "cell_type": "markdown",
   "id": "ae6b6dfc-0e61-4429-b2eb-2bd32999562a",
   "metadata": {},
   "source": [
    "`while else` statements"
   ]
  },
  {
   "cell_type": "code",
   "execution_count": 35,
   "id": "1558f0b2-eb90-426a-9327-b0d7d5225116",
   "metadata": {},
   "outputs": [
    {
     "name": "stdout",
     "output_type": "stream",
     "text": [
      "1\n",
      "2\n",
      "3\n",
      "4\n",
      "5\n",
      "i is no longer less than 6\n"
     ]
    }
   ],
   "source": [
    "i = 1\n",
    "while i < 6:\n",
    "  print(i)\n",
    "  i += 1\n",
    "else:\n",
    "  print(\"i is no longer less than 6\")"
   ]
  },
  {
   "cell_type": "code",
   "execution_count": null,
   "id": "87008390-afd8-4743-a887-7db9ee569208",
   "metadata": {},
   "outputs": [],
   "source": []
  }
 ],
 "metadata": {
  "kernelspec": {
   "display_name": "Python 3 (ipykernel)",
   "language": "python",
   "name": "python3"
  },
  "language_info": {
   "codemirror_mode": {
    "name": "ipython",
    "version": 3
   },
   "file_extension": ".py",
   "mimetype": "text/x-python",
   "name": "python",
   "nbconvert_exporter": "python",
   "pygments_lexer": "ipython3",
   "version": "3.9.13"
  }
 },
 "nbformat": 4,
 "nbformat_minor": 5
}
