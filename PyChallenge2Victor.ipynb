{
 "cells": [
  {
   "cell_type": "markdown",
   "id": "742a4436-6a08-4359-9349-47d926659c3d",
   "metadata": {},
   "source": [
    "# Victor Mantilla Colon"
   ]
  },
  {
   "cell_type": "markdown",
   "id": "dc6cf51e-71c5-4fd3-8b2f-00d40d8e1ca1",
   "metadata": {},
   "source": [
    "1. Calculate the area of the geometric figures.  Option to use an input function. "
   ]
  },
  {
   "cell_type": "code",
   "execution_count": 4,
   "id": "bcb9eeaf-436e-417b-88f4-ca45e4971d35",
   "metadata": {},
   "outputs": [],
   "source": [
    "import math as m"
   ]
  },
  {
   "cell_type": "markdown",
   "id": "038072b2-9edc-4131-9fc0-44e36db2cca9",
   "metadata": {},
   "source": [
    "Circle"
   ]
  },
  {
   "cell_type": "code",
   "execution_count": 5,
   "id": "88a444b4-ecaa-4f24-b3ce-f9ecd9505e1a",
   "metadata": {},
   "outputs": [
    {
     "name": "stdout",
     "output_type": "stream",
     "text": [
      "area of circle with radius  3  =  28.274333882308138\n"
     ]
    }
   ],
   "source": [
    "r = 3\n",
    "circle_area = (m.pi) * (r**2)\n",
    "print (\"area of circle with radius \", r, \" = \", circle_area)"
   ]
  },
  {
   "cell_type": "markdown",
   "id": "84f77943-9e5f-4790-af5b-555cd5e0585d",
   "metadata": {},
   "source": [
    "Square"
   ]
  },
  {
   "cell_type": "code",
   "execution_count": 8,
   "id": "56fa27e9-af35-4585-bcbe-ca3b762efad5",
   "metadata": {},
   "outputs": [
    {
     "name": "stdout",
     "output_type": "stream",
     "text": [
      " area of the square with side  3 = 9\n"
     ]
    }
   ],
   "source": [
    "a = 3\n",
    "square_area = (a**2) \n",
    "print(\" area of the square with side \", a, \"=\", square_area)"
   ]
  },
  {
   "cell_type": "markdown",
   "id": "2997ab5a-43b8-47c2-b6c8-98997c5e32fa",
   "metadata": {},
   "source": [
    "Triangle"
   ]
  },
  {
   "cell_type": "code",
   "execution_count": null,
   "id": "9b166172-f522-4535-8108-974490f51e3c",
   "metadata": {},
   "outputs": [],
   "source": [
    "a = 5\n",
    "triangle_area = \n",
    "print(\" area of the triangle with side \", a, \"=\", triangle_area)"
   ]
  },
  {
   "cell_type": "markdown",
   "id": "741d8bbd-62dd-4235-bd6c-6a5e116cbc29",
   "metadata": {},
   "source": [
    "Rectangle"
   ]
  },
  {
   "cell_type": "code",
   "execution_count": null,
   "id": "5ccc77c4-6a09-4cdd-80e7-35f0513733d3",
   "metadata": {},
   "outputs": [],
   "source": [
    "a =\n",
    "rectangle_area =\n",
    "print(\" area of the rectangle with side \", a, \"=\", rectangle_area)"
   ]
  },
  {
   "cell_type": "markdown",
   "id": "b6cac809-9eeb-4d32-9853-32413362ce51",
   "metadata": {},
   "source": [
    "Ellipse"
   ]
  },
  {
   "cell_type": "code",
   "execution_count": null,
   "id": "35835906-b750-4034-adc3-1eb648cfd732",
   "metadata": {},
   "outputs": [],
   "source": [
    "a =\n",
    "ellipse_area=\n",
    "print(\" area of the ellipse with side \", a, \"=\", ellipse_area)"
   ]
  },
  {
   "cell_type": "markdown",
   "id": "260287b9-f257-41ae-936c-8dc256ee07a9",
   "metadata": {},
   "source": [
    "Trapezoid"
   ]
  },
  {
   "cell_type": "code",
   "execution_count": null,
   "id": "8c2f27f2-2589-48db-8980-83796220d955",
   "metadata": {},
   "outputs": [],
   "source": [
    "a =\n",
    "trapezoid_area =\n",
    "print(\" area of the trapezoid with side \", a, \"=\", trapezoid_area)"
   ]
  },
  {
   "cell_type": "markdown",
   "id": "a6419bdb-1253-4573-b89e-4d47029065a4",
   "metadata": {},
   "source": [
    "4. Import the math library and give it the alias m."
   ]
  },
  {
   "cell_type": "code",
   "execution_count": null,
   "id": "025608c2-d6cc-4bd7-a32a-24b78579421a",
   "metadata": {},
   "outputs": [],
   "source": [
    "import math as m"
   ]
  }
 ],
 "metadata": {
  "kernelspec": {
   "display_name": "Python 3 (ipykernel)",
   "language": "python",
   "name": "python3"
  },
  "language_info": {
   "codemirror_mode": {
    "name": "ipython",
    "version": 3
   },
   "file_extension": ".py",
   "mimetype": "text/x-python",
   "name": "python",
   "nbconvert_exporter": "python",
   "pygments_lexer": "ipython3",
   "version": "3.9.13"
  }
 },
 "nbformat": 4,
 "nbformat_minor": 5
}
