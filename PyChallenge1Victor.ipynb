{
 "cells": [
  {
   "cell_type": "code",
   "execution_count": 1,
   "id": "d4a74498-62b4-43c6-a271-81786323748e",
   "metadata": {},
   "outputs": [
    {
     "name": "stdout",
     "output_type": "stream",
     "text": [
      "Python is the best coding language!\n"
     ]
    }
   ],
   "source": [
    "a = \"Python\" \" \"\n",
    "b= \"is the best coding language!\"\n",
    "c= a+b\n",
    "print(c)"
   ]
  },
  {
   "cell_type": "code",
   "execution_count": 2,
   "id": "61e9a4cb-9a0b-4d6d-ab87-055725808865",
   "metadata": {},
   "outputs": [
    {
     "name": "stdout",
     "output_type": "stream",
     "text": [
      "Python is the best coding language!\n"
     ]
    }
   ],
   "source": [
    "print(\"Python is the best coding language!\")"
   ]
  },
  {
   "cell_type": "code",
   "execution_count": 5,
   "id": "cb443463-d33c-4993-ad4f-bc31735045ac",
   "metadata": {},
   "outputs": [
    {
     "name": "stdout",
     "output_type": "stream",
     "text": [
      "It's time to go\n"
     ]
    }
   ],
   "source": [
    "print(\"It's time to go\")"
   ]
  },
  {
   "cell_type": "code",
   "execution_count": 6,
   "id": "fdb27cbd-9374-4630-89bd-8205ba1350ea",
   "metadata": {},
   "outputs": [
    {
     "ename": "SyntaxError",
     "evalue": "invalid syntax (210254775.py, line 1)",
     "output_type": "error",
     "traceback": [
      "\u001b[0;36m  File \u001b[0;32m\"/var/folders/4m/yt8hbrd947q4lr3s_f31chk00000gn/T/ipykernel_32732/210254775.py\"\u001b[0;36m, line \u001b[0;32m1\u001b[0m\n\u001b[0;31m    print('It's time to go')\u001b[0m\n\u001b[0m              ^\u001b[0m\n\u001b[0;31mSyntaxError\u001b[0m\u001b[0;31m:\u001b[0m invalid syntax\n"
     ]
    }
   ],
   "source": [
    "print('It's time to go')"
   ]
  },
  {
   "cell_type": "code",
   "execution_count": 7,
   "id": "c167328d-5d9c-456a-9026-8b8c2139d77f",
   "metadata": {},
   "outputs": [
    {
     "name": "stdout",
     "output_type": "stream",
     "text": [
      "It is time to go\n"
     ]
    }
   ],
   "source": [
    "print('It is time to go')"
   ]
  },
  {
   "cell_type": "code",
   "execution_count": 10,
   "id": "04251018-f470-4b21-9436-8b9834b3e65b",
   "metadata": {},
   "outputs": [
    {
     "name": "stdout",
     "output_type": "stream",
     "text": [
      "dog\n",
      "cat\n"
     ]
    }
   ],
   "source": [
    "a = \"dog\"\n",
    "b = \"cat\"\n",
    "print(a)\n",
    "print(b)"
   ]
  },
  {
   "cell_type": "code",
   "execution_count": 11,
   "id": "779d718e-d17f-4e9c-9e60-44c7bd78a6ee",
   "metadata": {},
   "outputs": [
    {
     "name": "stdout",
     "output_type": "stream",
     "text": [
      "bird\n"
     ]
    }
   ],
   "source": [
    "b = \"bird\"\n",
    "print(b)"
   ]
  },
  {
   "cell_type": "code",
   "execution_count": 13,
   "id": "5f95536c-c40c-4a63-8846-36613c05df33",
   "metadata": {},
   "outputs": [
    {
     "name": "stdout",
     "output_type": "stream",
     "text": [
      "Today is a good day!\n"
     ]
    }
   ],
   "source": [
    "a = \"good day!\"\n",
    "print(\"Today is a \" + a)"
   ]
  },
  {
   "cell_type": "code",
   "execution_count": 17,
   "id": "cdf405bf-6f57-4890-8af9-8cee672a0ee6",
   "metadata": {},
   "outputs": [
    {
     "name": "stdout",
     "output_type": "stream",
     "text": [
      "orders\n",
      "count\n",
      "sold\n",
      "cancelled\n"
     ]
    }
   ],
   "source": [
    "sales = [\"orders\", \"count\", \"sold\", \"cancelled\"]\n",
    "a,b,c,d = sales\n",
    "print(a)\n",
    "print(b)\n",
    "print(c)\n",
    "print(d)\n",
    "#print(a + b + c + d)#"
   ]
  },
  {
   "cell_type": "code",
   "execution_count": 18,
   "id": "226be019-4e40-4be8-a54e-1b318ba41f74",
   "metadata": {},
   "outputs": [
    {
     "name": "stdout",
     "output_type": "stream",
     "text": [
      "40\n"
     ]
    }
   ],
   "source": [
    "a = 15\n",
    "b = 25\n",
    "print(a + b)"
   ]
  },
  {
   "cell_type": "code",
   "execution_count": 21,
   "id": "7b5e2cdc-fc01-4b8c-9b1c-6c01e3d0f54b",
   "metadata": {},
   "outputs": [
    {
     "name": "stdout",
     "output_type": "stream",
     "text": [
      "A bright \n",
      " sunny day!\n",
      "A bright  sunny day!\n"
     ]
    }
   ],
   "source": [
    "x = \"A bright \"\n",
    "y = \" sunny day!\"\n",
    "z = x + y\n",
    "print(x)\n",
    "print(y)\n",
    "print(z)\n"
   ]
  },
  {
   "cell_type": "code",
   "execution_count": null,
   "id": "10bb14b7-879c-49b8-bfa5-3e81b1ea8bdf",
   "metadata": {},
   "outputs": [],
   "source": []
  },
  {
   "cell_type": "code",
   "execution_count": null,
   "id": "1b6c084f-034e-4ad3-9804-49e41b250df6",
   "metadata": {},
   "outputs": [],
   "source": [
    "Victor Mantilla Colon"
   ]
  },
  {
   "cell_type": "code",
   "execution_count": null,
   "id": "fa16e714-793a-48c0-8be0-25c47bcc60ed",
   "metadata": {},
   "outputs": [],
   "source": []
  }
 ],
 "metadata": {
  "kernelspec": {
   "display_name": "Python 3 (ipykernel)",
   "language": "python",
   "name": "python3"
  },
  "language_info": {
   "codemirror_mode": {
    "name": "ipython",
    "version": 3
   },
   "file_extension": ".py",
   "mimetype": "text/x-python",
   "name": "python",
   "nbconvert_exporter": "python",
   "pygments_lexer": "ipython3",
   "version": "3.9.13"
  }
 },
 "nbformat": 4,
 "nbformat_minor": 5
}
