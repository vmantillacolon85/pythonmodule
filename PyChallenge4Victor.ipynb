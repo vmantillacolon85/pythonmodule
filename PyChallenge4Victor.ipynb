{
 "cells": [
  {
   "cell_type": "markdown",
   "id": "934cd8b0-8139-474f-bfaf-a83f38cb49c0",
   "metadata": {},
   "source": [
    "Victor Mantilla Colon"
   ]
  },
  {
   "cell_type": "markdown",
   "id": "b5fe1b15-8b49-4da0-95a7-c04ab131725e",
   "metadata": {},
   "source": [
    "1. Create an IF code block with the following elements:\n",
    "    1.  weevil_a has a value of 65.\n",
    "\n",
    "    2.  weevil_b has a value of 150.\n",
    "\n",
    "    3.  create an if statement: If weevil_a  is less than weevil_b then print      \"weevil_a is the lesser of two weevils\"\n",
    "\n",
    "    4.  add an 'elif' statement for the condition where weevil_b is smaller\n",
    "\n",
    "    5.  add an 'else' for the condition that they are equal\n"
   ]
  },
  {
   "cell_type": "code",
   "execution_count": 1,
   "id": "31ac79db-72bc-4106-a5fc-2da67565694f",
   "metadata": {},
   "outputs": [
    {
     "name": "stdout",
     "output_type": "stream",
     "text": [
      "weevil_a is the lesser of two weevils\n"
     ]
    }
   ],
   "source": [
    "weevil_a = 65\n",
    "weevil_b = 150\n",
    "\n",
    "if weevil_a < weevil_b:\n",
    "    print(\"weevil_a is the lesser of two weevils\")\n",
    "elif weevil_a > weevil_b:\n",
    "    print(\"weevil_b is the lesser of two weevils\")\n",
    "else:\n",
    "    print(\"weevil_a and weevil_b are the same level of weevil\")"
   ]
  },
  {
   "cell_type": "markdown",
   "id": "f8a15f92-2942-4de2-b8ec-92a1c446c332",
   "metadata": {},
   "source": [
    "2.  Create a WHILE code block using the AND operator with the following elements:\n",
    "\n",
    "    A. x = 1\n",
    "    \n",
    "    B. WHILE x < 25 execute the following logic:\n",
    "    \n",
    "    C. print x\n",
    "    \n",
    "    D. IF x > 12 AND x < 19, print the statement \"the troubled teen years\".\n",
    "    \n",
    "    E. Increment x by 1"
   ]
  },
  {
   "cell_type": "code",
   "execution_count": 3,
   "id": "66967c06-4766-4132-af70-1007ca2e0c26",
   "metadata": {},
   "outputs": [
    {
     "name": "stdout",
     "output_type": "stream",
     "text": [
      "1\n",
      "2\n",
      "3\n",
      "4\n",
      "5\n",
      "6\n",
      "7\n",
      "8\n",
      "9\n",
      "10\n",
      "11\n",
      "12\n",
      "13\n",
      "14\n",
      "15\n",
      "16\n",
      "17\n",
      "18\n",
      "19\n",
      "20\n",
      "21\n",
      "22\n",
      "23\n",
      "24\n"
     ]
    }
   ],
   "source": [
    "x = 1\n",
    "\n",
    "while x < 25: \n",
    "    print(x)\n",
    "    x += 1"
   ]
  },
  {
   "cell_type": "code",
   "execution_count": 5,
   "id": "26b7a95a-5ed7-4616-8861-8b4de49bf68a",
   "metadata": {},
   "outputs": [
    {
     "name": "stdout",
     "output_type": "stream",
     "text": [
      "1\n",
      "2\n",
      "3\n",
      "4\n",
      "5\n",
      "6\n",
      "7\n",
      "8\n",
      "9\n",
      "10\n",
      "11\n",
      "12\n",
      "13\n",
      "the troubled teen years\n",
      "14\n",
      "the troubled teen years\n",
      "15\n",
      "the troubled teen years\n",
      "16\n",
      "the troubled teen years\n",
      "17\n",
      "the troubled teen years\n",
      "18\n",
      "the troubled teen years\n",
      "19\n",
      "20\n",
      "21\n",
      "22\n",
      "23\n",
      "24\n"
     ]
    }
   ],
   "source": [
    "x = 1\n",
    "\n",
    "while x < 25: \n",
    "    print(x)\n",
    "    if x > 12 and x < 19:\n",
    "        print(\"the troubled teen years\")\n",
    "    x += 1\n"
   ]
  },
  {
   "cell_type": "markdown",
   "id": "d17663f8-9e1f-4b18-8f76-07560881c436",
   "metadata": {},
   "source": [
    "3.  Create a FOR loop with the following elements:\n",
    "    \n",
    "    A. Create a list of grocery items (e.g. groceries = ['bread', 'milk',etc...])\n",
    "    \n",
    "    B. Iterate through the list using a FOR loop and a variable 'item'\n",
    "    \n",
    "    C. Print \"I forgot the\" and then the item in the list (e.g. \"i forgot the bread\")\n",
    "    \n",
    "    D. Add an IF block inside the FOR loop that checks if the item == 'kale' and print \"nobody likes kale, anyway\""
   ]
  },
  {
   "cell_type": "code",
   "execution_count": 6,
   "id": "1c859413-cef3-41a0-ae63-db75479ecb1c",
   "metadata": {},
   "outputs": [
    {
     "name": "stdout",
     "output_type": "stream",
     "text": [
      "eggs\n",
      "bacon\n",
      "bread\n",
      "cheese\n"
     ]
    }
   ],
   "source": [
    "groceries = ['eggs', 'bacon', 'bread', 'cheese']\n",
    "for x in groceries:\n",
    "    print(x)"
   ]
  },
  {
   "cell_type": "code",
   "execution_count": 7,
   "id": "c2bd2c14-7be7-4948-9b76-0a78e2716b28",
   "metadata": {},
   "outputs": [
    {
     "name": "stdout",
     "output_type": "stream",
     "text": [
      "['eggs']\n",
      "['eggs', 'bacon']\n",
      "['eggs', 'bacon', 'bread']\n",
      "['eggs', 'bacon', 'bread', 'cheese']\n"
     ]
    }
   ],
   "source": [
    "lst = []\n",
    "groceries = ['eggs', 'bacon', 'bread', 'cheese']\n",
    "for x in groceries:\n",
    "    lst.append(x)\n",
    "    print(lst)"
   ]
  },
  {
   "cell_type": "code",
   "execution_count": 10,
   "id": "d0671f30-4f10-43ea-b7de-daf309288712",
   "metadata": {},
   "outputs": [
    {
     "name": "stdout",
     "output_type": "stream",
     "text": [
      "['eggs']\n",
      "I forgot the butter\n",
      "['eggs', 'bacon']\n",
      "I forgot the butter\n",
      "['eggs', 'bacon', 'bread']\n",
      "I forgot the butter\n",
      "['eggs', 'bacon', 'bread', 'cheese']\n",
      "I forgot the butter\n"
     ]
    },
    {
     "ename": "NameError",
     "evalue": "name 'kale' is not defined",
     "output_type": "error",
     "traceback": [
      "\u001b[0;31m---------------------------------------------------------------------------\u001b[0m",
      "\u001b[0;31mNameError\u001b[0m                                 Traceback (most recent call last)",
      "\u001b[0;32m/var/folders/4m/yt8hbrd947q4lr3s_f31chk00000gn/T/ipykernel_48412/2995518692.py\u001b[0m in \u001b[0;36m<module>\u001b[0;34m\u001b[0m\n\u001b[1;32m      5\u001b[0m     \u001b[0mprint\u001b[0m\u001b[0;34m(\u001b[0m\u001b[0mlst\u001b[0m\u001b[0;34m)\u001b[0m\u001b[0;34m\u001b[0m\u001b[0;34m\u001b[0m\u001b[0m\n\u001b[1;32m      6\u001b[0m     \u001b[0mprint\u001b[0m\u001b[0;34m(\u001b[0m\u001b[0;34m\"I forgot the butter\"\u001b[0m\u001b[0;34m)\u001b[0m\u001b[0;34m\u001b[0m\u001b[0;34m\u001b[0m\u001b[0m\n\u001b[0;32m----> 7\u001b[0;31m \u001b[0;32mif\u001b[0m \u001b[0mx\u001b[0m\u001b[0;34m==\u001b[0m\u001b[0mkale\u001b[0m\u001b[0;34m:\u001b[0m\u001b[0;34m\u001b[0m\u001b[0;34m\u001b[0m\u001b[0m\n\u001b[0m\u001b[1;32m      8\u001b[0m     \u001b[0mprint\u001b[0m\u001b[0;34m(\u001b[0m\u001b[0;34m\"nobody likes kale, anyway\"\u001b[0m\u001b[0;34m)\u001b[0m\u001b[0;34m\u001b[0m\u001b[0;34m\u001b[0m\u001b[0m\n",
      "\u001b[0;31mNameError\u001b[0m: name 'kale' is not defined"
     ]
    }
   ],
   "source": [
    "lst = []\n",
    "groceries = ['eggs', 'bacon', 'bread', 'cheese']\n",
    "for x in groceries:\n",
    "    lst.append(x)\n",
    "    print(lst)\n",
    "    print(\"I forgot the butter\")\n",
    "if x==kale:\n",
    "    print(\"nobody likes kale, anyway\")"
   ]
  },
  {
   "cell_type": "code",
   "execution_count": null,
   "id": "b7a05cb0-322b-4975-a8d5-7eecde4d3893",
   "metadata": {},
   "outputs": [],
   "source": []
  }
 ],
 "metadata": {
  "kernelspec": {
   "display_name": "Python 3 (ipykernel)",
   "language": "python",
   "name": "python3"
  },
  "language_info": {
   "codemirror_mode": {
    "name": "ipython",
    "version": 3
   },
   "file_extension": ".py",
   "mimetype": "text/x-python",
   "name": "python",
   "nbconvert_exporter": "python",
   "pygments_lexer": "ipython3",
   "version": "3.9.13"
  }
 },
 "nbformat": 4,
 "nbformat_minor": 5
}
