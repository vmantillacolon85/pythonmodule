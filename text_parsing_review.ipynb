{
 "cells": [
  {
   "cell_type": "markdown",
   "id": "8f918830-776e-4d85-b608-b893a6e9a661",
   "metadata": {},
   "source": [
    "# String literals and split()"
   ]
  },
  {
   "cell_type": "code",
   "execution_count": 295,
   "id": "c367d62f-cf58-4f52-be0c-2f61352ac8a3",
   "metadata": {},
   "outputs": [
    {
     "name": "stdout",
     "output_type": "stream",
     "text": [
      "<class 'list'>\n",
      "<class 'str'>\n"
     ]
    }
   ],
   "source": [
    "text = 'our faults lie not in our stars but in ourselves'\n",
    "words = text.split()\n",
    "print (type(words))\n",
    "print (type(text))"
   ]
  },
  {
   "cell_type": "code",
   "execution_count": 293,
   "id": "1b4b9a10-fc44-4044-9e81-5f78aca1fbe4",
   "metadata": {
    "jupyter": {
     "source_hidden": true
    },
    "tags": []
   },
   "outputs": [
    {
     "name": "stdout",
     "output_type": "stream",
     "text": [
      "['our', 'faults', 'lie', 'not', 'in', 'our', 'stars', 'but', 'in', 'ourselves']\n"
     ]
    }
   ],
   "source": [
    "print (words)"
   ]
  },
  {
   "cell_type": "code",
   "execution_count": 296,
   "id": "286b1c91-c0b5-4dbd-8569-d6190bd54bae",
   "metadata": {},
   "outputs": [
    {
     "name": "stdout",
     "output_type": "stream",
     "text": [
      "['our', 'faults', 'lie', 'not', 'in', 'our', 'stars', 'but', 'in', 'ourselves', '--Shakespeare']\n"
     ]
    }
   ],
   "source": [
    "words.append('--Shakespeare')\n",
    "print (words)"
   ]
  },
  {
   "cell_type": "code",
   "execution_count": null,
   "id": "360b64a0-f4db-40a4-9f2d-c6f2b8b290aa",
   "metadata": {},
   "outputs": [],
   "source": []
  },
  {
   "cell_type": "code",
   "execution_count": 309,
   "id": "28f889a0-8750-4539-8342-ebdd7ce65485",
   "metadata": {
    "tags": []
   },
   "outputs": [
    {
     "name": "stdout",
     "output_type": "stream",
     "text": [
      "['apple#banana#cherry#orange']\n"
     ]
    }
   ],
   "source": [
    "text = \"apple#banana#cherry#orange\"\n",
    "x = text.split(\"&\")\n",
    "print (x)"
   ]
  },
  {
   "cell_type": "code",
   "execution_count": 310,
   "id": "a437a09d-c1da-4059-8b16-6c93fa9e30a9",
   "metadata": {},
   "outputs": [
    {
     "name": "stdout",
     "output_type": "stream",
     "text": [
      "['apple', 'banana#cherry#orange']\n"
     ]
    }
   ],
   "source": [
    "text = \"apple#banana#cherry#orange\"\n",
    "# setting the maxsplit parameter to 1, will return a list with 2 elements!\n",
    "x = text.split(\"#\", 1)\n",
    "print (x)"
   ]
  },
  {
   "cell_type": "code",
   "execution_count": 319,
   "id": "5ac10af6-d46e-4874-9532-b6af7b58365b",
   "metadata": {},
   "outputs": [
    {
     "name": "stdout",
     "output_type": "stream",
     "text": [
      "['On ', ' d', 'rk desert highw', 'y']\n"
     ]
    }
   ],
   "source": [
    "text = \"On a dark desert highway\"\n",
    "x = text.split(\"a\")\n",
    "print(x)\n"
   ]
  },
  {
   "cell_type": "code",
   "execution_count": 320,
   "id": "0401743c-76f9-45dc-bc1b-fe7265aad462",
   "metadata": {},
   "outputs": [],
   "source": [
    "xlist = list(x)"
   ]
  },
  {
   "cell_type": "code",
   "execution_count": 316,
   "id": "6a937765-9a8a-4241-b89f-a5fd14e13ad7",
   "metadata": {},
   "outputs": [
    {
     "name": "stdout",
     "output_type": "stream",
     "text": [
      "['On a dark d', 'e', 'sert highway']\n"
     ]
    }
   ],
   "source": [
    "print (xlist)"
   ]
  },
  {
   "cell_type": "code",
   "execution_count": null,
   "id": "87a84ba2-c8e7-4df5-85a0-634ff37c2b23",
   "metadata": {},
   "outputs": [],
   "source": []
  }
 ],
 "metadata": {
  "kernelspec": {
   "display_name": "Python 3 (ipykernel)",
   "language": "python",
   "name": "python3"
  },
  "language_info": {
   "codemirror_mode": {
    "name": "ipython",
    "version": 3
   },
   "file_extension": ".py",
   "mimetype": "text/x-python",
   "name": "python",
   "nbconvert_exporter": "python",
   "pygments_lexer": "ipython3",
   "version": "3.9.13"
  }
 },
 "nbformat": 4,
 "nbformat_minor": 5
}
