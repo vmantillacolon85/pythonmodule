{
 "cells": [
  {
   "cell_type": "markdown",
   "id": "ffed6880-9468-4bfa-805a-7e7e2b9c281e",
   "metadata": {},
   "source": [
    "# Unit 4: User Defined Functions and Scope\n",
    "***"
   ]
  },
  {
   "cell_type": "markdown",
   "id": "82af762b-1840-4316-a438-6efc631ded34",
   "metadata": {},
   "source": [
    "#### What's a function?"
   ]
  },
  {
   "cell_type": "markdown",
   "id": "94cb0446-3854-444a-b632-79e018e91ae0",
   "metadata": {},
   "source": [
    "A function is a reusable chunk of code that takes inputs (parameters) and provides outputs (returns).  \n",
    "Functions are labor saving devices that allow users to repeat operations without rewriting code.  \n",
    "They allow users to breakdown complex problems into smaller and more manageable components."
   ]
  },
  {
   "cell_type": "markdown",
   "id": "516da4df-2df7-4619-b856-aa3bd6da5048",
   "metadata": {},
   "source": [
    "We have already used some of the built in functions that come with python such as `print()`, `round()`, `dir()` and `type()`. These functions are easily recognized by their format, `function_name(parameter)`, and their applicability to multiple classes. These functions are useful but due to the variety of applications that python is used for it is impossible to preprogram solutions for all eventualities. To compensate for such limitations python allows users to create their own functions."
   ]
  },
  {
   "cell_type": "markdown",
   "id": "0b5e1833-2ec7-46e3-91c0-2850a6a8ee89",
   "metadata": {},
   "source": [
    "**Functions are used to:**\n",
    "- Perform a task (`print()`)\n",
    "- Return a value (`round()`)"
   ]
  },
  {
   "cell_type": "markdown",
   "id": "d7180db2-8c0e-4f43-bb88-03b414640e8e",
   "metadata": {},
   "source": [
    "[Click here for a full list of python functions](https://docs.python.org/3/library/functions.html)"
   ]
  },
  {
   "cell_type": "markdown",
   "id": "c1347e5e-4759-4ff0-8558-00d97028a987",
   "metadata": {},
   "source": [
    "***Defining a new function with `def`***"
   ]
  },
  {
   "cell_type": "markdown",
   "id": "0b99c1c3-8c36-4a46-91b9-e1edc843585e",
   "metadata": {},
   "source": [
    "`def` is used to define a function, it is placed before a function name that is provided by the user to create a user-defined function."
   ]
  },
  {
   "cell_type": "markdown",
   "id": "71b966cf-fd99-40da-9fed-fdf7e7fa47ea",
   "metadata": {},
   "source": [
    "**When naming your functions:**\n",
    "- use descriptive names\n",
    "- use lowercase text\n",
    "- use underscores to separate words"
   ]
  },
  {
   "cell_type": "markdown",
   "id": "272d3c2d-56ed-492f-acc1-0d9542201acc",
   "metadata": {},
   "source": [
    "The `greeting()` custom function below has no inputs (parameters) as can be seen from it's empty parentheses "
   ]
  },
  {
   "cell_type": "code",
   "execution_count": 1,
   "id": "2f8ebfc0-ef99-4eea-af05-b469dc747185",
   "metadata": {},
   "outputs": [],
   "source": [
    "def greeting():\n",
    "    print('Hello')"
   ]
  },
  {
   "cell_type": "markdown",
   "id": "a0cb8afe-b500-4b39-857e-8d92933fc11d",
   "metadata": {},
   "source": [
    "After you have created a custom function you can call it at any time just like a built in function"
   ]
  },
  {
   "cell_type": "code",
   "execution_count": 2,
   "id": "82e3cf65-d1ce-48f0-a066-bdd2c18a0ee7",
   "metadata": {},
   "outputs": [
    {
     "name": "stdout",
     "output_type": "stream",
     "text": [
      "Hello\n"
     ]
    }
   ],
   "source": [
    "greeting()"
   ]
  },
  {
   "cell_type": "markdown",
   "id": "dec65839-be57-4549-85ba-a0379b7ba8d2",
   "metadata": {},
   "source": [
    "Let's take a step closer to the real deal by creating a function that accepts parameters.  \n",
    "- A **Partameter** is the input variables of a function\n",
    "- An **Argument** is the data used to fill in a parameter"
   ]
  },
  {
   "cell_type": "markdown",
   "id": "ac841f60-d6d9-4328-a5da-cb12122f7487",
   "metadata": {},
   "source": [
    "Let's add the `first_name` and `last_name` parameters to our function"
   ]
  },
  {
   "cell_type": "code",
   "execution_count": 7,
   "id": "54113624-62b2-490f-8e90-97cb19a1f410",
   "metadata": {},
   "outputs": [],
   "source": [
    "def greeting(first_name, last_name):\n",
    "    print(f\"Hello {first_name} {last_name}\")"
   ]
  },
  {
   "cell_type": "markdown",
   "id": "121b2230-5379-4c10-9a65-fef9acb7c044",
   "metadata": {},
   "source": [
    "Remember to pass the `first_name` and `last_name` arguments when calling the function.  \n",
    "The function will not run* with the wrong number of arguments."
   ]
  },
  {
   "cell_type": "code",
   "execution_count": 8,
   "id": "b1643d19-b034-49de-9962-e2d595cd668d",
   "metadata": {},
   "outputs": [
    {
     "name": "stdout",
     "output_type": "stream",
     "text": [
      "Hello Vadim Acosta\n"
     ]
    }
   ],
   "source": [
    "greeting('Vadim','Acosta')"
   ]
  },
  {
   "cell_type": "markdown",
   "id": "bcc65d35-16ee-4377-9377-96aba89dc2bc",
   "metadata": {},
   "source": [
    "So far, we have been using a custom function that performs a task (prints a greeting) and it has performed admirably.  \n",
    "But it is extremely limited in application as we can't use to create an object for further use."
   ]
  },
  {
   "cell_type": "code",
   "execution_count": 11,
   "id": "61327245-d11c-4af8-9262-dc41c36fa77a",
   "metadata": {},
   "outputs": [
    {
     "name": "stdout",
     "output_type": "stream",
     "text": [
      "Hello Vadim Acosta\n"
     ]
    },
    {
     "ename": "TypeError",
     "evalue": "unsupported operand type(s) for *: 'NoneType' and 'int'",
     "output_type": "error",
     "traceback": [
      "\u001b[0;31m---------------------------------------------------------------------------\u001b[0m",
      "\u001b[0;31mTypeError\u001b[0m                                 Traceback (most recent call last)",
      "\u001b[0;32m/var/folders/4m/yt8hbrd947q4lr3s_f31chk00000gn/T/ipykernel_51976/2152329887.py\u001b[0m in \u001b[0;36m<module>\u001b[0;34m\u001b[0m\n\u001b[1;32m      1\u001b[0m \u001b[0mx\u001b[0m \u001b[0;34m=\u001b[0m \u001b[0mgreeting\u001b[0m\u001b[0;34m(\u001b[0m\u001b[0;34m'Vadim'\u001b[0m\u001b[0;34m,\u001b[0m\u001b[0;34m'Acosta'\u001b[0m\u001b[0;34m)\u001b[0m\u001b[0;34m\u001b[0m\u001b[0;34m\u001b[0m\u001b[0m\n\u001b[0;32m----> 2\u001b[0;31m \u001b[0mprint\u001b[0m\u001b[0;34m(\u001b[0m\u001b[0mx\u001b[0m \u001b[0;34m*\u001b[0m \u001b[0;36m2\u001b[0m\u001b[0;34m)\u001b[0m\u001b[0;34m\u001b[0m\u001b[0;34m\u001b[0m\u001b[0m\n\u001b[0m",
      "\u001b[0;31mTypeError\u001b[0m: unsupported operand type(s) for *: 'NoneType' and 'int'"
     ]
    }
   ],
   "source": [
    "x = greeting('Vadim','Acosta')\n",
    "print(x * 2)"
   ]
  },
  {
   "cell_type": "markdown",
   "id": "2da7c1d8-c77c-4532-b476-4419e2268cc9",
   "metadata": {},
   "source": [
    "**All functions that do not explicitly `return` a value return a `None` object**"
   ]
  },
  {
   "cell_type": "markdown",
   "id": "3789da52-df67-4f4f-84b4-1f8d02c2e47f",
   "metadata": {},
   "source": [
    "To overcome this limitation we will use the `return` keyword"
   ]
  },
  {
   "cell_type": "code",
   "execution_count": 12,
   "id": "ad2951a3-0be9-431c-a7b1-e52a0799e03a",
   "metadata": {},
   "outputs": [],
   "source": [
    "def return_greeting(first_name, last_name):\n",
    "    return f\"Hello {first_name} {last_name} \""
   ]
  },
  {
   "cell_type": "code",
   "execution_count": 13,
   "id": "258ebc43-aa6f-4369-beea-61a64f00716c",
   "metadata": {},
   "outputs": [
    {
     "data": {
      "text/plain": [
       "'Hello Vadim Acosta Hello Vadim Acosta '"
      ]
     },
     "execution_count": 13,
     "metadata": {},
     "output_type": "execute_result"
    }
   ],
   "source": [
    "x = return_greeting('Vadim','Acosta')\n",
    "x * 2"
   ]
  },
  {
   "cell_type": "markdown",
   "id": "20f57f16-cfe0-49dc-a0d4-4647ec133bb8",
   "metadata": {},
   "source": [
    "With `return` we can even pass objects from one function to another"
   ]
  },
  {
   "cell_type": "code",
   "execution_count": 14,
   "id": "e49df9e1-1b0f-44e0-9a25-4791d754388d",
   "metadata": {},
   "outputs": [],
   "source": [
    "def print_double(x):\n",
    "    print(x*2)"
   ]
  },
  {
   "cell_type": "code",
   "execution_count": 15,
   "id": "8de5704e-8492-4ab2-a1a3-e2ea189dae64",
   "metadata": {},
   "outputs": [],
   "source": [
    "def return_double(x):\n",
    "    return x*2"
   ]
  },
  {
   "cell_type": "code",
   "execution_count": 16,
   "id": "c242de83-b5f8-437a-aaaf-72b79024e098",
   "metadata": {},
   "outputs": [],
   "source": [
    "def multiply_by_3(x):\n",
    "    return x * 3    "
   ]
  },
  {
   "cell_type": "code",
   "execution_count": 20,
   "id": "866b2bdc-b9f9-416a-9ba6-08317d55dbe3",
   "metadata": {},
   "outputs": [
    {
     "name": "stdout",
     "output_type": "stream",
     "text": [
      "4\n"
     ]
    },
    {
     "data": {
      "text/plain": [
       "18"
      ]
     },
     "execution_count": 20,
     "metadata": {},
     "output_type": "execute_result"
    }
   ],
   "source": [
    "print_double(2)\n",
    "return_double(2)\n",
    "\n",
    "#multiply_by_3(print_double(3))\n",
    "multiply_by_3(return_double(3))"
   ]
  },
  {
   "cell_type": "markdown",
   "id": "0d11cbfb-e135-4271-bdea-09f77ae927c7",
   "metadata": {},
   "source": [
    "The most commonly used function format:"
   ]
  },
  {
   "cell_type": "markdown",
   "id": "93e08164-3e7e-4f2a-8eb1-c9e5d2c6dd6a",
   "metadata": {},
   "source": [
    "`def function_name(inputs):`  \n",
    "`   return expression_or_logic`"
   ]
  },
  {
   "cell_type": "code",
   "execution_count": 21,
   "id": "d7784285-623b-4be9-9f24-8d9fcf8f4096",
   "metadata": {},
   "outputs": [],
   "source": [
    "def increment(number, by):\n",
    "    return number + by"
   ]
  },
  {
   "cell_type": "markdown",
   "id": "900a3116-5d56-4d6e-9db0-5550c8b2ce7a",
   "metadata": {},
   "source": [
    "You can always `print()` a returned result"
   ]
  },
  {
   "cell_type": "code",
   "execution_count": 22,
   "id": "59ae95e5-1009-42b7-b1d4-648c3d3fe081",
   "metadata": {},
   "outputs": [
    {
     "name": "stdout",
     "output_type": "stream",
     "text": [
      "3\n"
     ]
    }
   ],
   "source": [
    "print(increment(2,1))"
   ]
  },
  {
   "cell_type": "markdown",
   "id": "88a3c214-ebeb-4a5c-9a3a-926ad284ca18",
   "metadata": {},
   "source": [
    "**Keyword Arguments**  \n",
    "You can improve readability by explicitly labeling the arguments with the parameter name:"
   ]
  },
  {
   "cell_type": "code",
   "execution_count": 23,
   "id": "81d9dccb-b314-4295-a66f-e0569cb6488b",
   "metadata": {},
   "outputs": [
    {
     "name": "stdout",
     "output_type": "stream",
     "text": [
      "3\n"
     ]
    }
   ],
   "source": [
    "print(increment(number=2,by=1))"
   ]
  },
  {
   "cell_type": "markdown",
   "id": "ea95515b-1634-4bfd-baf3-2d999c4cbb02",
   "metadata": {},
   "source": [
    "**Parameters with Default Values**  \n",
    "We can set default values for our parameters when we ceate functions"
   ]
  },
  {
   "cell_type": "code",
   "execution_count": 24,
   "id": "1ac72f19-5124-4977-b105-40cd968b644e",
   "metadata": {},
   "outputs": [],
   "source": [
    "def greeting(first_name = 'New', last_name = 'Guest'):\n",
    "    return f\"Hello {first_name} {last_name}\""
   ]
  },
  {
   "cell_type": "code",
   "execution_count": 25,
   "id": "736e1562-8ae9-4d8e-8ea8-929eeea9b8f9",
   "metadata": {},
   "outputs": [
    {
     "data": {
      "text/plain": [
       "'Hello New Guest'"
      ]
     },
     "execution_count": 25,
     "metadata": {},
     "output_type": "execute_result"
    }
   ],
   "source": [
    "greeting()"
   ]
  },
  {
   "cell_type": "markdown",
   "id": "63de1e2e-0168-44ed-b4ee-629538d3980a",
   "metadata": {},
   "source": [
    "Parameters with default values make the inputs of arguments effectively optional but there is a bit of a hiccup.    \n",
    "**A non-default argument can never follow a default argument.**"
   ]
  },
  {
   "cell_type": "code",
   "execution_count": 26,
   "id": "744bf913-3d36-4d87-9083-65136886cfbd",
   "metadata": {},
   "outputs": [
    {
     "ename": "SyntaxError",
     "evalue": "non-default argument follows default argument (161723962.py, line 1)",
     "output_type": "error",
     "traceback": [
      "\u001b[0;36m  File \u001b[0;32m\"/var/folders/4m/yt8hbrd947q4lr3s_f31chk00000gn/T/ipykernel_51976/161723962.py\"\u001b[0;36m, line \u001b[0;32m1\u001b[0m\n\u001b[0;31m    def greeting(first_name = 'New', last_name):\u001b[0m\n\u001b[0m                                              ^\u001b[0m\n\u001b[0;31mSyntaxError\u001b[0m\u001b[0;31m:\u001b[0m non-default argument follows default argument\n"
     ]
    }
   ],
   "source": [
    "def greeting(first_name = 'New', last_name):\n",
    "    return f\"Hello {first_name} {last_name}\""
   ]
  },
  {
   "cell_type": "markdown",
   "id": "cae1d59c-a911-4113-b849-e65e1b158e99",
   "metadata": {},
   "source": [
    "**Functions with an Unknown Number of Argument**  \n",
    "A function can accept any number of arguments by putting `*` before the parameter.  \n",
    "If you don't know the number of arguments the user is going to pass, the `*` is your new best friend."
   ]
  },
  {
   "cell_type": "code",
   "execution_count": 27,
   "id": "68e1b368-aafc-42e5-9e37-def774ae4807",
   "metadata": {},
   "outputs": [],
   "source": [
    "def add(*numbers):\n",
    "    total = 0\n",
    "    for number in numbers:\n",
    "        total = total + number\n",
    "        #total += number\n",
    "    return total"
   ]
  },
  {
   "cell_type": "code",
   "execution_count": 28,
   "id": "84ac3f59-6cdf-45d4-8583-7d441dcffaa0",
   "metadata": {},
   "outputs": [
    {
     "data": {
      "text/plain": [
       "21"
      ]
     },
     "execution_count": 28,
     "metadata": {},
     "output_type": "execute_result"
    }
   ],
   "source": [
    "add(1,2,3,4,5,6)"
   ]
  },
  {
   "cell_type": "markdown",
   "id": "2292f08f-3a0f-4cb7-864e-7194c3999223",
   "metadata": {},
   "source": [
    "**Potential pitfall**  \n",
    "Scoping the return inside the loop renders it useless for the purpose of expressing the true total"
   ]
  },
  {
   "cell_type": "code",
   "execution_count": 29,
   "id": "e623aca7-2953-4d70-97ba-d8ff0992526a",
   "metadata": {},
   "outputs": [],
   "source": [
    "def add(*numbers):\n",
    "    total = 0\n",
    "    for number in numbers:\n",
    "        total += number\n",
    "        return total"
   ]
  },
  {
   "cell_type": "code",
   "execution_count": 30,
   "id": "23d1d022-4700-4f4e-a2c0-7cb34f43786d",
   "metadata": {},
   "outputs": [
    {
     "data": {
      "text/plain": [
       "1"
      ]
     },
     "execution_count": 30,
     "metadata": {},
     "output_type": "execute_result"
    }
   ],
   "source": [
    "add(1,2,3,4,5,6)"
   ]
  },
  {
   "cell_type": "markdown",
   "id": "6e6c3420-5c42-48f3-b9a2-f6f7a1eafe5e",
   "metadata": {},
   "source": [
    "**Key Word Arguments (KWARGS)**  \n",
    "The function can have a single parameter prefixed with `**`. This type of parameter initialized to a new ordered mapping receiving any excess keyword arguments, defaulting to a new empty mapping of the same type. \n",
    "Creates dictionary by defaut."
   ]
  },
  {
   "cell_type": "code",
   "execution_count": 31,
   "id": "ace8c020-38d2-45e9-b1a4-901fa58eb0d5",
   "metadata": {},
   "outputs": [],
   "source": [
    "def user_data(**user):\n",
    "    return(user)"
   ]
  },
  {
   "cell_type": "code",
   "execution_count": 32,
   "id": "3a97c8f9-6596-4077-840b-58cba2fa2a91",
   "metadata": {},
   "outputs": [
    {
     "data": {
      "text/plain": [
       "{'id': 1, 'name': 'Robert', 'age': 38}"
      ]
     },
     "execution_count": 32,
     "metadata": {},
     "output_type": "execute_result"
    }
   ],
   "source": [
    "user1 = user_data(id=1, name='Robert', age=38)\n",
    "user1"
   ]
  },
  {
   "cell_type": "markdown",
   "id": "7ed88edf-9e46-46df-8d10-c091ce4f7b26",
   "metadata": {},
   "source": [
    "### Scope"
   ]
  },
  {
   "cell_type": "markdown",
   "id": "84adc4f4-9e23-4651-9eb2-f16141eaca01",
   "metadata": {},
   "source": [
    "**Global Scope** \n",
    "\n",
    "A variable created in the main body of the Python code is a global variable and belongs to the global scope.  \n",
    "Global variables are available from within any scope, global and local.  \n",
    "Global variables are long lasting and affect all functions created after they are defined (double edged sword)  \n",
    "Useful for variable used by multiple functions\n"
   ]
  },
  {
   "cell_type": "code",
   "execution_count": 33,
   "id": "5072991e-0d73-4ea1-a2a1-6ebf3ddbea7f",
   "metadata": {},
   "outputs": [],
   "source": [
    "x = 100\n",
    "\n",
    "def add_x(num):\n",
    "    return num + x"
   ]
  },
  {
   "cell_type": "code",
   "execution_count": 34,
   "id": "fbc91392-c2df-4f29-9666-541d25a676ce",
   "metadata": {},
   "outputs": [
    {
     "data": {
      "text/plain": [
       "110"
      ]
     },
     "execution_count": 34,
     "metadata": {},
     "output_type": "execute_result"
    }
   ],
   "source": [
    "add_x(10)"
   ]
  },
  {
   "cell_type": "markdown",
   "id": "e27d452c-6929-4997-9d8c-04978f7bfe81",
   "metadata": {},
   "source": [
    "**Local Scope**  \n",
    "The varibales defined inside the function will only exist within said function.  \n",
    "Stay in memory for the time that a function is active."
   ]
  },
  {
   "cell_type": "code",
   "execution_count": 36,
   "id": "dde98e4f-ba2b-4df4-aa80-abc55f290716",
   "metadata": {},
   "outputs": [
    {
     "data": {
      "text/plain": [
       "2"
      ]
     },
     "execution_count": 36,
     "metadata": {},
     "output_type": "execute_result"
    }
   ],
   "source": [
    "10 - (2 + 6)"
   ]
  },
  {
   "cell_type": "code",
   "execution_count": 35,
   "id": "efe27098-40af-408c-93ca-5f0796dc8802",
   "metadata": {},
   "outputs": [
    {
     "name": "stdout",
     "output_type": "stream",
     "text": [
      "200\n",
      "300\n"
     ]
    }
   ],
   "source": [
    "x = 300\n",
    "\n",
    "def myfunc():\n",
    "  x = 200 \n",
    "  print(x)\n",
    "\n",
    "myfunc() ## this will return the x = 200 value within the local scope function declaring it 200.\n",
    "print(x)"
   ]
  },
  {
   "cell_type": "code",
   "execution_count": 38,
   "id": "18779ff9-92d6-4618-857b-8d5fb1f66155",
   "metadata": {},
   "outputs": [],
   "source": [
    "def friend_greeting(name):\n",
    "    message = f\"Welcome {name}!\"\n",
    "    return message\n",
    "\n",
    "\n",
    "def enemy_greeting(name):\n",
    "    message = f\"I will destroy you {name}!\"\n",
    "    return message"
   ]
  },
  {
   "cell_type": "code",
   "execution_count": 40,
   "id": "eee122f5-7bfe-4ce6-99ac-9b961a6ce309",
   "metadata": {},
   "outputs": [
    {
     "name": "stdout",
     "output_type": "stream",
     "text": [
      "Welcome Bob!\n",
      "I will destroy you Robert!\n"
     ]
    }
   ],
   "source": [
    "print(friend_greeting('Bob'))\n",
    "print(enemy_greeting('Robert'))"
   ]
  },
  {
   "cell_type": "markdown",
   "id": "cf74d622-31f9-4414-9f15-37a9efd1763f",
   "metadata": {},
   "source": [
    "The variables named `message` and arguments called `name` do not interfere with each other as their local scope limits their potential influence"
   ]
  },
  {
   "cell_type": "markdown",
   "id": "2f848c55-8a99-4034-ac69-2eb3f4dc1ef2",
   "metadata": {},
   "source": [
    "**Global Keyword**  \n",
    "If you need to create a global variable, but are stuck in the local scope, you can use the global keyword.  \n",
    "The global keyword makes the variable global.  \n",
    "To change the value of a global variable inside a function, refer to the variable by using the global keyword:"
   ]
  },
  {
   "cell_type": "code",
   "execution_count": 41,
   "id": "5800ab94-154b-4d17-a5b7-79b6c74e54ea",
   "metadata": {},
   "outputs": [
    {
     "name": "stdout",
     "output_type": "stream",
     "text": [
      "200\n"
     ]
    }
   ],
   "source": [
    "x = 300\n",
    "\n",
    "def myfunc():\n",
    "  global x  ## when you add global x it means that you are making x = 200 global as it has been declared global x in the function. \n",
    "  x = 200\n",
    "\n",
    "myfunc()\n",
    "\n",
    "print(x)"
   ]
  },
  {
   "cell_type": "markdown",
   "id": "1b87eaf2-e5de-48c2-b1e0-9609c5885e25",
   "metadata": {},
   "source": [
    "**Nested Function**"
   ]
  },
  {
   "cell_type": "markdown",
   "id": "c07f9a3c-edcf-4c7f-9296-3b1395567dca",
   "metadata": {},
   "source": [
    "Functions can be nested in the definition stages but one must be mindful no to accidentally use a varible that has yet to be defined.  \n",
    "Unlike called nested functions which are executed inside out `round(sum(x),2)`, ***functions are defined from the outside in.***"
   ]
  },
  {
   "cell_type": "code",
   "execution_count": 59,
   "id": "fa8da622-de17-4e7d-a010-98b29507164b",
   "metadata": {},
   "outputs": [
    {
     "name": "stdout",
     "output_type": "stream",
     "text": [
      "300\n"
     ]
    }
   ],
   "source": [
    "def myfunc():\n",
    "   x = 300\n",
    "   def myinnerfunc():\n",
    "         print(x)\n",
    "   myinnerfunc()\n",
    "\n",
    "myfunc()"
   ]
  },
  {
   "cell_type": "code",
   "execution_count": 61,
   "id": "ad833dea-197e-4c22-b346-a2b014fd545e",
   "metadata": {},
   "outputs": [
    {
     "name": "stdout",
     "output_type": "stream",
     "text": [
      "300\n"
     ]
    }
   ],
   "source": [
    "def myfunc():\n",
    "   y= 300\n",
    "   def myinnerfunc():\n",
    "         print(y)\n",
    "   myinnerfunc()\n",
    "\n",
    "myfunc()"
   ]
  },
  {
   "cell_type": "markdown",
   "id": "b6877118-6980-47b8-ae90-41cdb1064ead",
   "metadata": {},
   "source": [
    "Define and call a function that if it takes in a number more than or equal to 100 output 'Big!' and if it's not outputs 'Small'."
   ]
  },
  {
   "cell_type": "code",
   "execution_count": 90,
   "id": "5e1da2c5-5a67-436d-a594-d9c07390364e",
   "metadata": {},
   "outputs": [],
   "source": [
    "def output_size(num):\n",
    "    if num >= 100:\n",
    "        return 'Big!'\n",
    "    elif num < 100:\n",
    "        return 'Small'\n",
    "        \n",
    "        return num\n",
    "    \n",
    "# print(output_size(33),output_size(103))"
   ]
  },
  {
   "cell_type": "code",
   "execution_count": 91,
   "id": "70d5d363-44da-4295-96ac-4f72aa08e3a5",
   "metadata": {},
   "outputs": [
    {
     "data": {
      "text/plain": [
       "'Small'"
      ]
     },
     "execution_count": 91,
     "metadata": {},
     "output_type": "execute_result"
    }
   ],
   "source": [
    "output_size(99)"
   ]
  },
  {
   "cell_type": "code",
   "execution_count": 85,
   "id": "c89a2d90-3293-4fbe-a786-a84f48b5959f",
   "metadata": {},
   "outputs": [
    {
     "name": "stdout",
     "output_type": "stream",
     "text": [
      "Small\n",
      "Big!\n"
     ]
    }
   ],
   "source": [
    "## with print()\n",
    "\n",
    "def output_size(num):\n",
    "    if num >= 100:\n",
    "        print ('Big!')\n",
    "    elif num < 100:\n",
    "        print ('Small')\n",
    "            \n",
    "output_size(90)\n",
    "output_size(122)"
   ]
  },
  {
   "cell_type": "markdown",
   "id": "023009f0-a347-49d0-b88f-d4d09aaa48eb",
   "metadata": {},
   "source": [
    "# Fizz Buzz"
   ]
  },
  {
   "cell_type": "markdown",
   "id": "04941c1a-aa95-4415-8d4f-517382148948",
   "metadata": {},
   "source": [
    "Create a function that takes an input.  \n",
    "If the input is divisible by 3 it returns 'Fizz!'.  \n",
    "If the input is divisible by 5 it returns 'Buzz!'. \n",
    "If the input is divisible by 3 and 5 it returns 'Fizz Buzz!'.  \n",
    "For any other numbers it return the input."
   ]
  },
  {
   "cell_type": "code",
   "execution_count": 62,
   "id": "194371af-663b-4e0e-8f18-04d1e5eabed1",
   "metadata": {},
   "outputs": [],
   "source": [
    "def fizz_buzz(num):\n",
    "    if (num % 3 == 0) and (num % 5 == 0):\n",
    "        return 'Fizz Buzz!'\n",
    "    elif num % 3 == 0:\n",
    "        return 'Fizz!'\n",
    "    elif num % 5 == 0:\n",
    "        return 'Buzz!'\n",
    "    else:\n",
    "        return num"
   ]
  },
  {
   "cell_type": "code",
   "execution_count": 67,
   "id": "3129d43d-7874-45a0-9683-1e7ab6ab559b",
   "metadata": {},
   "outputs": [],
   "source": [
    "def fizzBuzz(self, n: int):\n",
    "        ans=[]\n",
    "        for i in range(1,n+1):\n",
    "            if i%3==0 and i%5==0:\n",
    "                ans.append(\"FizzBuzz\")\n",
    "            elif i%5==0:\n",
    "                ans.append(\"Buzz\")\n",
    "            elif i%3==0:\n",
    "                ans.append(\"Fizz\")\n",
    "            else:\n",
    "                ans.append(str(i))\n",
    "        return ans"
   ]
  },
  {
   "cell_type": "code",
   "execution_count": 69,
   "id": "c321f0cb-cc39-48ba-9412-ad1409717879",
   "metadata": {},
   "outputs": [
    {
     "data": {
      "text/plain": [
       "'Fizz!'"
      ]
     },
     "execution_count": 69,
     "metadata": {},
     "output_type": "execute_result"
    }
   ],
   "source": [
    "fizz_buzz(33)"
   ]
  },
  {
   "cell_type": "code",
   "execution_count": null,
   "id": "55845ce7-4096-4b3f-9035-df8729cd3479",
   "metadata": {},
   "outputs": [],
   "source": []
  }
 ],
 "metadata": {
  "kernelspec": {
   "display_name": "Python 3 (ipykernel)",
   "language": "python",
   "name": "python3"
  },
  "language_info": {
   "codemirror_mode": {
    "name": "ipython",
    "version": 3
   },
   "file_extension": ".py",
   "mimetype": "text/x-python",
   "name": "python",
   "nbconvert_exporter": "python",
   "pygments_lexer": "ipython3",
   "version": "3.9.13"
  }
 },
 "nbformat": 4,
 "nbformat_minor": 5
}
